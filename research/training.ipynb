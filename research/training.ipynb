{
  "nbformat": 4,
  "nbformat_minor": 0,
  "metadata": {
    "colab": {
      "name": "training",
      "provenance": []
    },
    "kernelspec": {
      "name": "python3",
      "display_name": "Python 3"
    },
    "accelerator": "GPU"
  },
  "cells": [
    {
      "cell_type": "code",
      "metadata": {
        "id": "YrkC485UyOhy",
        "colab_type": "code",
        "colab": {}
      },
      "source": [
        "from keras.datasets import cifar10\n",
        "from keras.optimizers import SGD, adam\n",
        "from keras.regularizers import l2\n",
        "from keras.utils import to_categorical\n",
        "from keras.models import Sequential\n",
        "from keras.layers import Conv2D, MaxPooling2D, Dense, Flatten, Dropout, Activation"
      ],
      "execution_count": 2,
      "outputs": []
    },
    {
      "cell_type": "code",
      "metadata": {
        "id": "KspLDcZ6yRe_",
        "colab_type": "code",
        "colab": {}
      },
      "source": [
        "(train_x, train_y), (val_and_test_x, val_and_test_y) = cifar10.load_data()\n",
        "\n",
        "val_x, test_x = val_and_test_x[:9000], val_and_test_x[9000:]\n",
        "val_y, test_y = val_and_test_y[:9000], val_and_test_y[9000:]\n",
        "\n",
        "# summarize loaded dataset\n",
        "print(type(train_x))\n",
        "print('Train: X=%s, y=%s' % (train_x.shape, train_y.shape))\n",
        "print('Validation: X=%s, y=%s' % (val_x.shape, val_y.shape))\n",
        "print('Test: X=%s, y=%s' % (test_x.shape, test_y.shape))"
      ],
      "execution_count": null,
      "outputs": []
    },
    {
      "cell_type": "code",
      "metadata": {
        "id": "Bcz91rmvM3ql",
        "colab_type": "code",
        "colab": {}
      },
      "source": [
        "train_x = train_x.astype('float32')\n",
        "val_x = val_x.astype('float32')\n",
        "test_x = test_x.astype('float32')\n",
        "\n",
        "# normalize to range 0-1\n",
        "train_x = train_x / 255.0\n",
        "val_x = val_x / 255.0\n",
        "test_x = test_x / 255.0\n",
        "\n",
        "train_y = to_categorical(train_y)\n",
        "val_y = to_categorical(val_y)\n",
        "test_y = to_categorical(test_y)"
      ],
      "execution_count": 4,
      "outputs": []
    },
    {
      "cell_type": "code",
      "metadata": {
        "id": "17jHYFSzabyv",
        "colab_type": "code",
        "colab": {
          "base_uri": "https://localhost:8080/",
          "height": 667
        },
        "outputId": "126028a0-242e-44f7-a465-e56f2f273899"
      },
      "source": [
        "model = Sequential()\n",
        "model.add(Conv2D(32, (3, 3), activation='relu', kernel_initializer='he_uniform', padding='same', input_shape=(32, 32, 3)))\n",
        "model.add(Conv2D(32, (3, 3), activation='relu', kernel_initializer='he_uniform', padding='same'))\n",
        "model.add(MaxPooling2D((2, 2)))\n",
        "model.add(Dropout(0.2))\n",
        "model.add(Conv2D(64, (3, 3), activation='relu', kernel_initializer='he_uniform', padding='same'))\n",
        "model.add(Conv2D(64, (3, 3), activation='relu', kernel_initializer='he_uniform', padding='same'))\n",
        "model.add(MaxPooling2D((2, 2)))\n",
        "model.add(Dropout(0.3))\n",
        "model.add(Conv2D(128, (3, 3), activation='relu', kernel_initializer='he_uniform', padding='same'))\n",
        "model.add(Conv2D(128, (3, 3), activation='relu', kernel_initializer='he_uniform', padding='same'))\n",
        "model.add(MaxPooling2D((2, 2)))\n",
        "model.add(Dropout(0.4))\n",
        "# example output part of the model\n",
        "model.add(Flatten())\n",
        "model.add(Dense(128, activation='relu', kernel_initializer='he_uniform'))\n",
        "model.add(Dropout(0.4))\n",
        "model.add(Dense(10, activation='softmax'))\n",
        "\n",
        "model.summary()"
      ],
      "execution_count": 5,
      "outputs": [
        {
          "output_type": "stream",
          "text": [
            "Model: \"sequential_1\"\n",
            "_________________________________________________________________\n",
            "Layer (type)                 Output Shape              Param #   \n",
            "=================================================================\n",
            "conv2d_1 (Conv2D)            (None, 32, 32, 32)        896       \n",
            "_________________________________________________________________\n",
            "conv2d_2 (Conv2D)            (None, 32, 32, 32)        9248      \n",
            "_________________________________________________________________\n",
            "max_pooling2d_1 (MaxPooling2 (None, 16, 16, 32)        0         \n",
            "_________________________________________________________________\n",
            "dropout_1 (Dropout)          (None, 16, 16, 32)        0         \n",
            "_________________________________________________________________\n",
            "conv2d_3 (Conv2D)            (None, 16, 16, 64)        18496     \n",
            "_________________________________________________________________\n",
            "conv2d_4 (Conv2D)            (None, 16, 16, 64)        36928     \n",
            "_________________________________________________________________\n",
            "max_pooling2d_2 (MaxPooling2 (None, 8, 8, 64)          0         \n",
            "_________________________________________________________________\n",
            "dropout_2 (Dropout)          (None, 8, 8, 64)          0         \n",
            "_________________________________________________________________\n",
            "conv2d_5 (Conv2D)            (None, 8, 8, 128)         73856     \n",
            "_________________________________________________________________\n",
            "conv2d_6 (Conv2D)            (None, 8, 8, 128)         147584    \n",
            "_________________________________________________________________\n",
            "max_pooling2d_3 (MaxPooling2 (None, 4, 4, 128)         0         \n",
            "_________________________________________________________________\n",
            "dropout_3 (Dropout)          (None, 4, 4, 128)         0         \n",
            "_________________________________________________________________\n",
            "flatten_1 (Flatten)          (None, 2048)              0         \n",
            "_________________________________________________________________\n",
            "dense_1 (Dense)              (None, 128)               262272    \n",
            "_________________________________________________________________\n",
            "dropout_4 (Dropout)          (None, 128)               0         \n",
            "_________________________________________________________________\n",
            "dense_2 (Dense)              (None, 10)                1290      \n",
            "=================================================================\n",
            "Total params: 550,570\n",
            "Trainable params: 550,570\n",
            "Non-trainable params: 0\n",
            "_________________________________________________________________\n"
          ],
          "name": "stdout"
        }
      ]
    },
    {
      "cell_type": "code",
      "metadata": {
        "id": "WtEtdPoharD5",
        "colab_type": "code",
        "colab": {
          "base_uri": "https://localhost:8080/",
          "height": 992
        },
        "outputId": "37833aa8-41e8-42a0-c6eb-33689101d179"
      },
      "source": [
        "from keras.models import load_model\n",
        "from keras.preprocessing.image import ImageDataGenerator\n",
        "\n",
        "opt = adam(lr=0.001)\n",
        "# model.load_weights(\"classification_v2.h5\")\n",
        "model.compile(optimizer=opt, loss='categorical_crossentropy', metrics=['accuracy'])\n",
        "datagen = ImageDataGenerator(width_shift_range=0.1, height_shift_range=0.1, horizontal_flip=True)\n",
        "\n",
        "train_bat = datagen.flow(train_x, train_y, batch_size=64)\n",
        "\n",
        "steps = int(train_x.shape[0] / 64)\n",
        "model_history = model.fit_generator(train_bat, steps_per_epoch=steps, epochs=30, validation_data=(val_x, val_y), verbose=1)\n",
        "\n",
        "# model_history=model.fit(train_x, train_y, epochs=30, batch_size=64,\n",
        "#                     validation_data=(val_x, val_y), verbose=1)\n",
        "model.save_weights(\"../model/classification_v4_weights.h5\")\n",
        "model.save(\"../model/classification_v4.h5\", model_history)"
      ],
      "execution_count": 10,
      "outputs": [
        {
          "output_type": "stream",
          "text": [
            "Epoch 1/30\n",
            "781/781 [==============================] - 40s 51ms/step - loss: 1.0753 - accuracy: 0.6204 - val_loss: 0.8545 - val_accuracy: 0.6963\n",
            "Epoch 2/30\n",
            "781/781 [==============================] - 39s 50ms/step - loss: 1.0093 - accuracy: 0.6480 - val_loss: 0.9232 - val_accuracy: 0.6782\n",
            "Epoch 3/30\n",
            "781/781 [==============================] - 39s 50ms/step - loss: 0.9526 - accuracy: 0.6673 - val_loss: 0.8438 - val_accuracy: 0.7048\n",
            "Epoch 4/30\n",
            "781/781 [==============================] - 39s 49ms/step - loss: 0.9245 - accuracy: 0.6785 - val_loss: 0.7924 - val_accuracy: 0.7179\n",
            "Epoch 5/30\n",
            "781/781 [==============================] - 39s 50ms/step - loss: 0.8832 - accuracy: 0.6978 - val_loss: 0.7860 - val_accuracy: 0.7327\n",
            "Epoch 6/30\n",
            "781/781 [==============================] - 39s 50ms/step - loss: 0.8547 - accuracy: 0.7044 - val_loss: 0.7909 - val_accuracy: 0.7304\n",
            "Epoch 7/30\n",
            "781/781 [==============================] - 39s 49ms/step - loss: 0.8303 - accuracy: 0.7154 - val_loss: 0.7629 - val_accuracy: 0.7398\n",
            "Epoch 8/30\n",
            "781/781 [==============================] - 41s 52ms/step - loss: 0.8116 - accuracy: 0.7206 - val_loss: 0.6841 - val_accuracy: 0.7598\n",
            "Epoch 9/30\n",
            "781/781 [==============================] - 41s 52ms/step - loss: 0.7993 - accuracy: 0.7244 - val_loss: 0.7162 - val_accuracy: 0.7597\n",
            "Epoch 10/30\n",
            "781/781 [==============================] - 42s 54ms/step - loss: 0.7781 - accuracy: 0.7337 - val_loss: 0.7060 - val_accuracy: 0.7659\n",
            "Epoch 11/30\n",
            "781/781 [==============================] - 42s 54ms/step - loss: 0.7644 - accuracy: 0.7369 - val_loss: 0.6340 - val_accuracy: 0.7861\n",
            "Epoch 12/30\n",
            "781/781 [==============================] - 42s 54ms/step - loss: 0.7522 - accuracy: 0.7437 - val_loss: 0.6889 - val_accuracy: 0.7677\n",
            "Epoch 13/30\n",
            "781/781 [==============================] - 43s 55ms/step - loss: 0.7383 - accuracy: 0.7473 - val_loss: 0.6462 - val_accuracy: 0.7842\n",
            "Epoch 14/30\n",
            "781/781 [==============================] - 43s 54ms/step - loss: 0.7266 - accuracy: 0.7522 - val_loss: 0.6698 - val_accuracy: 0.7752\n",
            "Epoch 15/30\n",
            "781/781 [==============================] - 42s 54ms/step - loss: 0.7201 - accuracy: 0.7531 - val_loss: 0.7905 - val_accuracy: 0.7428\n",
            "Epoch 16/30\n",
            "781/781 [==============================] - 43s 55ms/step - loss: 0.7183 - accuracy: 0.7582 - val_loss: 0.6263 - val_accuracy: 0.7860\n",
            "Epoch 17/30\n",
            "781/781 [==============================] - 43s 55ms/step - loss: 0.7033 - accuracy: 0.7608 - val_loss: 0.6841 - val_accuracy: 0.7713\n",
            "Epoch 18/30\n",
            "781/781 [==============================] - 43s 54ms/step - loss: 0.7023 - accuracy: 0.7610 - val_loss: 0.6422 - val_accuracy: 0.7833\n",
            "Epoch 19/30\n",
            "781/781 [==============================] - 43s 54ms/step - loss: 0.6895 - accuracy: 0.7639 - val_loss: 0.5923 - val_accuracy: 0.7983\n",
            "Epoch 20/30\n",
            "781/781 [==============================] - 43s 54ms/step - loss: 0.6838 - accuracy: 0.7676 - val_loss: 0.6536 - val_accuracy: 0.7856\n",
            "Epoch 21/30\n",
            "781/781 [==============================] - 42s 54ms/step - loss: 0.6776 - accuracy: 0.7695 - val_loss: 0.6135 - val_accuracy: 0.7956\n",
            "Epoch 22/30\n",
            "781/781 [==============================] - 43s 55ms/step - loss: 0.6743 - accuracy: 0.7708 - val_loss: 0.6348 - val_accuracy: 0.7883\n",
            "Epoch 23/30\n",
            "781/781 [==============================] - 42s 54ms/step - loss: 0.6699 - accuracy: 0.7720 - val_loss: 0.7014 - val_accuracy: 0.7767\n",
            "Epoch 24/30\n",
            "781/781 [==============================] - 43s 55ms/step - loss: 0.6682 - accuracy: 0.7727 - val_loss: 0.5745 - val_accuracy: 0.8066\n",
            "Epoch 25/30\n",
            "781/781 [==============================] - 42s 54ms/step - loss: 0.6557 - accuracy: 0.7775 - val_loss: 0.6350 - val_accuracy: 0.7906\n",
            "Epoch 26/30\n",
            "781/781 [==============================] - 43s 55ms/step - loss: 0.6539 - accuracy: 0.7789 - val_loss: 0.5902 - val_accuracy: 0.8073\n",
            "Epoch 27/30\n",
            "781/781 [==============================] - 43s 54ms/step - loss: 0.6541 - accuracy: 0.7776 - val_loss: 0.6286 - val_accuracy: 0.7843\n",
            "Epoch 28/30\n",
            "781/781 [==============================] - 42s 54ms/step - loss: 0.6542 - accuracy: 0.7775 - val_loss: 0.6019 - val_accuracy: 0.7951\n",
            "Epoch 29/30\n",
            "781/781 [==============================] - 42s 54ms/step - loss: 0.6352 - accuracy: 0.7841 - val_loss: 0.5977 - val_accuracy: 0.8022\n",
            "Epoch 30/30\n",
            "781/781 [==============================] - 42s 54ms/step - loss: 0.6496 - accuracy: 0.7807 - val_loss: 0.5753 - val_accuracy: 0.8050\n"
          ],
          "name": "stdout"
        }
      ]
    },
    {
      "cell_type": "code",
      "metadata": {
        "id": "mX2QGvA6bUT_",
        "colab_type": "code",
        "colab": {
          "base_uri": "https://localhost:8080/",
          "height": 605
        },
        "outputId": "5286e328-5e9e-47fc-af9a-c363d380f249"
      },
      "source": [
        "import matplotlib.pyplot as plt\n",
        "\n",
        "print(\"model created\")\n",
        "# list all data in history\n",
        "print(model_history.history.keys())\n",
        "# summarize history for accuracy\n",
        "plt.plot(model_history.history['accuracy'])\n",
        "plt.plot(model_history.history['val_accuracy'])\n",
        "plt.title('model accuracy')\n",
        "plt.ylabel('accuracy')\n",
        "plt.xlabel('epoch')\n",
        "plt.legend(['train', 'validation'], loc='upper left')\n",
        "plt.show()\n",
        "\n",
        "# summarize history for loss\n",
        "plt.plot(model_history.history['loss'])\n",
        "plt.plot(model_history.history['val_loss'])\n",
        "plt.title('model loss')\n",
        "plt.ylabel('loss')\n",
        "plt.xlabel('epoch')\n",
        "plt.legend(['train', 'validation'], loc='upper left')\n",
        "plt.show()"
      ],
      "execution_count": 13,
      "outputs": [
        {
          "output_type": "stream",
          "text": [
            "model created\n",
            "dict_keys(['val_loss', 'val_accuracy', 'loss', 'accuracy'])\n"
          ],
          "name": "stdout"
        },
        {
          "output_type": "display_data",
          "data": {
            "image/png": "[encoded data removed]",
            "text/plain": [
              "<Figure size 432x288 with 1 Axes>"
            ]
          },
          "metadata": {
            "tags": [],
            "needs_background": "light"
          }
        },
        {
          "output_type": "display_data",
          "data": {
            "image/png": "[encoded data removed]",
            "text/plain": [
              "<Figure size 432x288 with 1 Axes>"
            ]
          },
          "metadata": {
            "tags": [],
            "needs_background": "light"
          }
        }
      ]
    },
    {
      "cell_type": "code",
      "metadata": {
        "id": "dDOkk8xymBtc",
        "colab_type": "code",
        "colab": {
          "base_uri": "https://localhost:8080/",
          "height": 66
        },
        "outputId": "10708e66-50b9-4bfa-d34d-dc8234b3a483"
      },
      "source": [
        "%%time\n",
        "_, acc = model.evaluate(test_x, test_y, verbose=0, batch_size=1)\n",
        "print('> %.3f' % (acc * 100.0))"
      ],
      "execution_count": 12,
      "outputs": [
        {
          "output_type": "stream",
          "text": [
            "> 81.900\n",
            "CPU times: user 3.84 s, sys: 648 ms, total: 4.48 s\n",
            "Wall time: 3.62 s\n"
          ],
          "name": "stdout"
        }
      ]
    }
  ]
}